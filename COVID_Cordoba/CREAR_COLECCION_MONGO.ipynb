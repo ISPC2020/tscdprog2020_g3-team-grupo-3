{
 "cells": [
  {
   "cell_type": "markdown",
   "metadata": {},
   "source": [
    "# CREAR UNA COLECCION"
   ]
  },
  {
   "cell_type": "code",
   "execution_count": 16,
   "metadata": {},
   "outputs": [
    {
     "name": "stdout",
     "output_type": "stream",
     "text": [
      "La información ha sido cargada exitosamente\n"
     ]
    }
   ],
   "source": [
    "# importo las librerias necesarias \n",
    "import pymongo\n",
    "import pandas as pd\n",
    "\n",
    "client = pymongo.MongoClient('localhost',27017) #conexion a Mongodb\n",
    "db = client['CCCba'] #defino la base\n",
    "#creo la colección del mismo nombre\n",
    "collection=db['CCCba_collection']\n",
    "\n",
    "#cargo los datos del archivo csv\n",
    "#df=pd.read_csv(\"CCCba.csv\", index_col=0, encoding='latin-1') #definir ruta si el archivo esta en otro directorio.\n",
    "\n",
    "#Si el CSV no esta separado x comas\n",
    "#df = pd.read_csv('Ejercico_4.csv', index_col=0, sep=';') #ponemos el punto y coma.\n",
    "\n",
    "#codigo para cargar de un excel\n",
    "df=pd.read_excel(\"CCCba.xlsx\", index_col=0, encoding='utf-8') #definir ruta si el archivo esta en otro directorio.(\"CCCba.csv\", index_col=0, encoding='latin-1') #definir ruta si el archivo esta en otro directorio.\n",
    "\n",
    "data=df.to_dict('records')\n",
    "#ahora inserto\n",
    "collection.insert_many(data)\n",
    "print(\"La información ha sido cargada exitosamente\")"
   ]
  },
  {
   "cell_type": "markdown",
   "metadata": {},
   "source": [
    "## TRAER COLLECION"
   ]
  },
  {
   "cell_type": "code",
   "execution_count": 21,
   "metadata": {},
   "outputs": [
    {
     "name": "stdout",
     "output_type": "stream",
     "text": [
      "['CCCba', 'CasosCOVID19Cba', 'admin', 'config', 'covid_cba', 'local', 'mongo', 'prueba_python', 'weatherHistory']\n",
      "['CCCba_collection']\n",
      "<pymongo.cursor.Cursor object at 0x0000016A3564FC40>\n"
     ]
    },
    {
     "data": {
      "text/plain": [
       "'\\nfor i in cdr:\\n    print(i)\\n'"
      ]
     },
     "execution_count": 21,
     "metadata": {},
     "output_type": "execute_result"
    }
   ],
   "source": [
    "client = pymongo.MongoClient('localhost',27017)\n",
    "print(client.list_database_names()) #muestra los nombres de las bases\n",
    "db = client['CCCba'] #monto la base en la variable db\n",
    "print(db.list_collection_names()) #muestra las colecciones en esa base\n",
    "col = db.CasosCOVID19Cba #Carga la coleccion en la variable col\n",
    "\n",
    "#sentencia para buscar dentro de la coleccion\n",
    "cdr = col.find(({'Fecha': 20/7/2021}))\n",
    "print(cdr)\n"
   ]
  },
  {
   "cell_type": "code",
   "execution_count": null,
   "metadata": {},
   "outputs": [],
   "source": []
  }
 ],
 "metadata": {
  "kernelspec": {
   "display_name": "Python 3",
   "language": "python",
   "name": "python3"
  },
  "language_info": {
   "codemirror_mode": {
    "name": "ipython",
    "version": 3
   },
   "file_extension": ".py",
   "mimetype": "text/x-python",
   "name": "python",
   "nbconvert_exporter": "python",
   "pygments_lexer": "ipython3",
   "version": "3.8.3"
  }
 },
 "nbformat": 4,
 "nbformat_minor": 4
}
