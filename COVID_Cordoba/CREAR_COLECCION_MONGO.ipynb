{
 "cells": [
  {
   "cell_type": "markdown",
   "metadata": {},
   "source": [
    "# CREAR UNA COLECCION"
   ]
  },
  {
   "cell_type": "code",
   "execution_count": 31,
   "metadata": {},
   "outputs": [
    {
     "name": "stdout",
     "output_type": "stream",
     "text": [
      "La información ha sido cargada exitosamente\n"
     ]
    }
   ],
   "source": [
    "# importo las librerias necesarias \n",
    "import pymongo\n",
    "import pandas as pd\n",
    "\n",
    "client = pymongo.MongoClient('localhost',27017) #conexion a Mongodb\n",
    "db = client['CCCba'] #defino la base\n",
    "#creo la colección del mismo nombre\n",
    "collection=db['CCCba_collection']\n",
    "\n",
    "#cargo los datos del archivo csv\n",
    "#df=pd.read_csv(\"CCCba.csv\", index_col=0, encoding='latin-1') #definir ruta si el archivo esta en otro directorio.\n",
    "\n",
    "#Si el CSV no esta separado x comas\n",
    "#df = pd.read_csv('Ejercico_4.csv', index_col=0, sep=';') #ponemos el punto y coma.\n",
    "\n",
    "#codigo para cargar de un excel\n",
    "df=pd.read_excel(\"CCCba.xlsx\") #definir ruta si el archivo esta en otro directorio.(\"CCCba.csv\", index_col=0, encoding='latin-1') #definir ruta si el archivo esta en otro directorio.\n",
    "\n",
    "data=df.to_dict('records')\n",
    "#ahora inserto\n",
    "collection.insert_many(data)\n",
    "print(\"La información ha sido cargada exitosamente\")"
   ]
  },
  {
   "cell_type": "markdown",
   "metadata": {},
   "source": [
    "## TRAER COLLECION"
   ]
  },
  {
   "cell_type": "code",
   "execution_count": 30,
   "metadata": {},
   "outputs": [
    {
     "name": "stdout",
     "output_type": "stream",
     "text": [
      "['CCCba', 'CasosCOVID19Cba', 'admin', 'config', 'covid_cba', 'local', 'mongo', 'prueba_python', 'weatherHistory']\n",
      "['CCCba_collection']\n"
     ]
    },
    {
     "ename": "TypeError",
     "evalue": "'Collection' object is not callable. If you meant to call the 'head' method on a 'Collection' object it is failing because no such method exists.",
     "output_type": "error",
     "traceback": [
      "\u001b[1;31m---------------------------------------------------------------------------\u001b[0m",
      "\u001b[1;31mTypeError\u001b[0m                                 Traceback (most recent call last)",
      "\u001b[1;32m<ipython-input-30-47e263d526ad>\u001b[0m in \u001b[0;36m<module>\u001b[1;34m\u001b[0m\n\u001b[0;32m      8\u001b[0m \u001b[1;31m#sentencia para buscar dentro de la coleccion\u001b[0m\u001b[1;33m\u001b[0m\u001b[1;33m\u001b[0m\u001b[1;33m\u001b[0m\u001b[0m\n\u001b[0;32m      9\u001b[0m \u001b[0mcdr\u001b[0m \u001b[1;33m=\u001b[0m \u001b[0mcol\u001b[0m\u001b[1;33m.\u001b[0m\u001b[0mfind\u001b[0m\u001b[1;33m(\u001b[0m\u001b[1;33m(\u001b[0m\u001b[1;33m{\u001b[0m\u001b[1;34m'Fecha'\u001b[0m\u001b[1;33m:\u001b[0m \u001b[1;36m20\u001b[0m\u001b[1;33m/\u001b[0m\u001b[1;36m7\u001b[0m\u001b[1;33m/\u001b[0m\u001b[1;36m2021\u001b[0m\u001b[1;33m}\u001b[0m\u001b[1;33m)\u001b[0m\u001b[1;33m)\u001b[0m\u001b[1;33m\u001b[0m\u001b[1;33m\u001b[0m\u001b[0m\n\u001b[1;32m---> 10\u001b[1;33m \u001b[0mcol\u001b[0m\u001b[1;33m.\u001b[0m\u001b[0mhead\u001b[0m\u001b[1;33m(\u001b[0m\u001b[1;33m)\u001b[0m\u001b[1;33m\u001b[0m\u001b[1;33m\u001b[0m\u001b[0m\n\u001b[0m",
      "\u001b[1;32m~\\anaconda3\\lib\\site-packages\\pymongo\\collection.py\u001b[0m in \u001b[0;36m__call__\u001b[1;34m(self, *args, **kwargs)\u001b[0m\n\u001b[0;32m   3443\u001b[0m                             \u001b[1;34m\"exists.\"\u001b[0m \u001b[1;33m%\u001b[0m\u001b[1;33m\u001b[0m\u001b[1;33m\u001b[0m\u001b[0m\n\u001b[0;32m   3444\u001b[0m                             self.__name)\n\u001b[1;32m-> 3445\u001b[1;33m         raise TypeError(\"'Collection' object is not callable. If you meant to \"\n\u001b[0m\u001b[0;32m   3446\u001b[0m                         \u001b[1;34m\"call the '%s' method on a 'Collection' object it is \"\u001b[0m\u001b[1;33m\u001b[0m\u001b[1;33m\u001b[0m\u001b[0m\n\u001b[0;32m   3447\u001b[0m                         \u001b[1;34m\"failing because no such method exists.\"\u001b[0m \u001b[1;33m%\u001b[0m\u001b[1;33m\u001b[0m\u001b[1;33m\u001b[0m\u001b[0m\n",
      "\u001b[1;31mTypeError\u001b[0m: 'Collection' object is not callable. If you meant to call the 'head' method on a 'Collection' object it is failing because no such method exists."
     ]
    }
   ],
   "source": [
    "import pymongo\n",
    "client = pymongo.MongoClient('localhost',27017)\n",
    "print(client.list_database_names()) #muestra los nombres de las bases\n",
    "db = client['CCCba'] #monto la base en la variable db\n",
    "print(db.list_collection_names()) #muestra las colecciones en esa base\n",
    "col = db.CCCba #Carga la coleccion en la variable col\n",
    "\n",
    "#sentencia para buscar dentro de la coleccion\n",
    "cdr = col.find(({'Fecha': 20/7/2021}))\n",
    "col.head()\n"
   ]
  },
  {
   "cell_type": "code",
   "execution_count": null,
   "metadata": {},
   "outputs": [],
   "source": []
  }
 ],
 "metadata": {
  "kernelspec": {
   "display_name": "Python 3",
   "language": "python",
   "name": "python3"
  },
  "language_info": {
   "codemirror_mode": {
    "name": "ipython",
    "version": 3
   },
   "file_extension": ".py",
   "mimetype": "text/x-python",
   "name": "python",
   "nbconvert_exporter": "python",
   "pygments_lexer": "ipython3",
   "version": "3.8.3"
  }
 },
 "nbformat": 4,
 "nbformat_minor": 4
}
