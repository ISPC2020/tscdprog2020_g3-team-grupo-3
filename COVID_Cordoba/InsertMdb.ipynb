{
 "cells": [
  {
   "cell_type": "code",
   "execution_count": null,
   "source": [],
   "outputs": [],
   "metadata": {}
  },
  {
   "cell_type": "code",
   "execution_count": 35,
   "source": [
    "import pymongo\r\n",
    "\r\n",
    "mongoClient = pymongo.MongoClient('localhost',27017)\r\n",
    "db = mongoClient.CasosCOVID19Cba\r\n",
    "col = db.CasosCOVID19Cba"
   ],
   "outputs": [],
   "metadata": {}
  },
  {
   "cell_type": "code",
   "execution_count": 18,
   "source": [
    "print(db)"
   ],
   "outputs": [
    {
     "output_type": "stream",
     "name": "stdout",
     "text": [
      "Database(MongoClient(host=['localhost:27017'], document_class=dict, tz_aware=False, connect=True), 'CasosCOVID19Cba')\n"
     ]
    }
   ],
   "metadata": {}
  },
  {
   "cell_type": "code",
   "execution_count": 21,
   "source": [
    "db.CasosCOVID19Cba.count()"
   ],
   "outputs": [
    {
     "output_type": "stream",
     "name": "stderr",
     "text": [
      "<ipython-input-21-69d82dd90aed>:1: DeprecationWarning: count is deprecated. Use estimated_document_count or count_documents instead. Please note that $where must be replaced by $expr, $near must be replaced by $geoWithin with $center, and $nearSphere must be replaced by $geoWithin with $centerSphere\n",
      "  db.CasosCOVID19Cba.count()\n"
     ]
    },
    {
     "output_type": "execute_result",
     "data": {
      "text/plain": [
       "484"
      ]
     },
     "metadata": {},
     "execution_count": 21
    }
   ],
   "metadata": {}
  },
  {
   "cell_type": "code",
   "execution_count": 37,
   "source": [
    "db.CasosCOVID19Cba.insert_many( [\r\n",
    "  {'Fecha': '23/7/2021', 'Casos registrados Ciudad de Córdoba (acumulado)': 203941, 'Casos registrados Provincia de Córdoba (acumulado)': 453760,\r\n",
    "  'Fallecidos Provincia de Córdoba (acumulado)': 6002, 'Nuevos casos registrados Ciudad de Córdoba': 986, 'Nuevos casos registrados Provincia de Córdoba': 2004 },\r\n",
    "    {'Fecha': '24/7/2021', 'Casos registrados Ciudad de Córdoba (acumulado)': 205515, 'Casos registrados Provincia de Córdoba (acumulado)': 455356,\r\n",
    "  'Fallecidos Provincia de Córdoba (acumulado)': 6010, 'Nuevos casos registrados Ciudad de Córdoba': 865, 'Nuevos casos registrados Provincia de Córdoba': 1574 },\r\n",
    "    {'Fecha': '25/7/2021', 'Casos registrados Ciudad de Córdoba (acumulado)': 206540, 'Casos registrados Provincia de Córdoba (acumulado)': 456402,\r\n",
    "  'Fallecidos Provincia de Córdoba (acumulado)': 6019, 'Nuevos casos registrados Ciudad de Córdoba': 1025, 'Nuevos casos registrados Provincia de Córdoba': 1025 },\r\n",
    "    {'Fecha': '26/7/2021', 'Casos registrados Ciudad de Córdoba (acumulado)': 208211, 'Casos registrados Provincia de Córdoba (acumulado)': 458082,\r\n",
    "  'Fallecidos Provincia de Córdoba (acumulado)': 6053, 'Nuevos casos registrados Ciudad de Córdoba': 598, 'Nuevos casos registrados Provincia de Córdoba': 1671},\r\n",
    "    {'Fecha': '27/7/2021', 'Casos registrados Ciudad de Córdoba (acumulado)': 210818, 'Casos registrados Provincia de Córdoba (acumulado)': 460719,\r\n",
    "  'Fallecidos Provincia de Córdoba (acumulado)': 6077, 'Nuevos casos registrados Ciudad de Córdoba': 1067, 'Nuevos casos registrados Provincia de Córdoba': 2607}, \r\n",
    "    {'Fecha': '28/7/2021', 'Casos registrados Ciudad de Córdoba (acumulado)': 213227, 'Casos registrados Provincia de Córdoba (acumulado)': 463151,\r\n",
    "  'Fallecidos Provincia de Córdoba (acumulado)': 6096, 'Nuevos casos registrados Ciudad de Córdoba': 1073, 'Nuevos casos registrados Provincia de Córdoba': 2409},\r\n",
    "    {'Fecha': '29/7/2021', 'Casos registrados Ciudad de Córdoba (acumulado)': 215421, 'Casos registrados Provincia de Córdoba (acumulado)': 465378,\r\n",
    "  'Fallecidos Provincia de Córdoba (acumulado)': 6120, 'Nuevos casos registrados Ciudad de Córdoba': 959, 'Nuevos casos registrados Provincia de Córdoba': 2194},\r\n",
    "    {'Fecha': '30/7/2021', 'Casos registrados Ciudad de Córdoba (acumulado)': 217281, 'Casos registrados Provincia de Córdoba (acumulado)': 467263,\r\n",
    "  'Fallecidos Provincia de Córdoba (acumulado)': 6135, 'Nuevos casos registrados Ciudad de Córdoba': 778, 'Nuevos casos registrados Provincia de Córdoba':1860},\r\n",
    "    {'Fecha': '31/7/2021', 'Casos registrados Ciudad de Córdoba (acumulado)': 218452, 'Casos registrados Provincia de Córdoba (acumulado)': 468451,\r\n",
    "  'Fallecidos Provincia de Córdoba (acumulado)': 6141, 'Nuevos casos registrados Ciudad de Córdoba': 548, 'Nuevos casos registrados Provincia de Córdoba':1171},\r\n",
    "    {'Fecha': '1/8/2021', 'Casos registrados Ciudad de Córdoba (acumulado)': 219146, 'Casos registrados Provincia de Córdoba (acumulado)': 469147,\r\n",
    "  'Fallecidos Provincia de Córdoba (acumulado)': 6146, 'Nuevos casos registrados Ciudad de Córdoba': 308, 'Nuevos casos registrados Provincia de Córdoba':694},\r\n",
    "    {'Fecha': '2/8/2021', 'Casos registrados Ciudad de Córdoba (acumulado)': 220397, 'Casos registrados Provincia de Córdoba (acumulado)': 470423,\r\n",
    "  'Fallecidos Provincia de Córdoba (acumulado)': 6169, 'Nuevos casos registrados Ciudad de Córdoba': 364, 'Nuevos casos registrados Provincia de Córdoba':1251}, \r\n",
    "\r\n",
    "]);"
   ],
   "outputs": [],
   "metadata": {}
  },
  {
   "cell_type": "code",
   "execution_count": 38,
   "source": [
    "db.CasosCOVID19Cba.count()"
   ],
   "outputs": [
    {
     "output_type": "stream",
     "name": "stderr",
     "text": [
      "<ipython-input-38-69d82dd90aed>:1: DeprecationWarning: count is deprecated. Use estimated_document_count or count_documents instead. Please note that $where must be replaced by $expr, $near must be replaced by $geoWithin with $center, and $nearSphere must be replaced by $geoWithin with $centerSphere\n",
      "  db.CasosCOVID19Cba.count()\n"
     ]
    },
    {
     "output_type": "execute_result",
     "data": {
      "text/plain": [
       "495"
      ]
     },
     "metadata": {},
     "execution_count": 38
    }
   ],
   "metadata": {}
  },
  {
   "cell_type": "code",
   "execution_count": 31,
   "source": [
    "print(col)"
   ],
   "outputs": [
    {
     "output_type": "stream",
     "name": "stdout",
     "text": [
      "Collection(Database(MongoClient(host=['localhost:27017'], document_class=dict, tz_aware=False, connect=True), 'CasosCOVID19Cba'), 'CasosCOVID19Cba')\n"
     ]
    }
   ],
   "metadata": {}
  },
  {
   "cell_type": "code",
   "execution_count": 34,
   "source": [
    "#Cerrar la conexion\r\n",
    "mongoClient.close()"
   ],
   "outputs": [],
   "metadata": {}
  }
 ],
 "metadata": {
  "kernelspec": {
   "display_name": "Python 3",
   "language": "python",
   "name": "python3"
  },
  "language_info": {
   "codemirror_mode": {
    "name": "ipython",
    "version": 3
   },
   "file_extension": ".py",
   "mimetype": "text/x-python",
   "name": "python",
   "nbconvert_exporter": "python",
   "pygments_lexer": "ipython3",
   "version": "3.8.3"
  }
 },
 "nbformat": 4,
 "nbformat_minor": 4
}