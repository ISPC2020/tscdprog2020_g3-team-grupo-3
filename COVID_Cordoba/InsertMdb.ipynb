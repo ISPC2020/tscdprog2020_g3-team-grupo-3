{
 "cells": [
  {
   "cell_type": "code",
   "execution_count": null,
   "metadata": {},
   "outputs": [],
   "source": []
  },
  {
   "cell_type": "code",
   "execution_count": 35,
   "metadata": {},
   "outputs": [],
   "source": [
    "import pymongo\n",
    "\n",
    "mongoClient = pymongo.MongoClient('localhost',27017)\n",
    "db = mongoClient.CasosCOVID19Cba\n",
    "col = db.CasosCOVID19Cba"
   ]
  },
  {
   "cell_type": "code",
   "execution_count": 18,
   "metadata": {},
   "outputs": [
    {
     "name": "stdout",
     "output_type": "stream",
     "text": [
      "Database(MongoClient(host=['localhost:27017'], document_class=dict, tz_aware=False, connect=True), 'CasosCOVID19Cba')\n"
     ]
    }
   ],
   "source": [
    "print(db)"
   ]
  },
  {
   "cell_type": "code",
   "execution_count": 21,
   "metadata": {},
   "outputs": [
    {
     "name": "stderr",
     "output_type": "stream",
     "text": [
      "<ipython-input-21-69d82dd90aed>:1: DeprecationWarning: count is deprecated. Use estimated_document_count or count_documents instead. Please note that $where must be replaced by $expr, $near must be replaced by $geoWithin with $center, and $nearSphere must be replaced by $geoWithin with $centerSphere\n",
      "  db.CasosCOVID19Cba.count()\n"
     ]
    },
    {
     "data": {
      "text/plain": [
       "484"
      ]
     },
     "execution_count": 21,
     "metadata": {},
     "output_type": "execute_result"
    }
   ],
   "source": [
    "db.CasosCOVID19Cba.count()"
   ]
  },
  {
   "cell_type": "code",
   "execution_count": null,
   "metadata": {},
   "outputs": [],
   "source": []
  },
  {
   "cell_type": "code",
   "execution_count": 37,
   "metadata": {},
   "outputs": [],
   "source": [
    "db.CasosCOVID19Cba.insert_many( [\n",
    "  {'Fecha': '23/7/2021', 'Casos registrados Ciudad de Córdoba (acumulado)': 203941, 'Casos registrados Provincia de Córdoba (acumulado)': 453760,\n",
    "  'Fallecidos Provincia de Córdoba (acumulado)': 6002, 'Nuevos casos registrados Ciudad de Córdoba': 986, 'Nuevos casos registrados Provincia de Córdoba': 2004 },\n",
    "    {'Fecha': '24/7/2021', 'Casos registrados Ciudad de Córdoba (acumulado)': 205515, 'Casos registrados Provincia de Córdoba (acumulado)': 455356,\n",
    "  'Fallecidos Provincia de Córdoba (acumulado)': 6010, 'Nuevos casos registrados Ciudad de Córdoba': 865, 'Nuevos casos registrados Provincia de Córdoba': 1574 },\n",
    "    {'Fecha': '25/7/2021', 'Casos registrados Ciudad de Córdoba (acumulado)': 206540, 'Casos registrados Provincia de Córdoba (acumulado)': 456402,\n",
    "  'Fallecidos Provincia de Córdoba (acumulado)': 6019, 'Nuevos casos registrados Ciudad de Córdoba': 1025, 'Nuevos casos registrados Provincia de Córdoba': 1025 },\n",
    "    {'Fecha': '26/7/2021', 'Casos registrados Ciudad de Córdoba (acumulado)': 208211, 'Casos registrados Provincia de Córdoba (acumulado)': 458082,\n",
    "  'Fallecidos Provincia de Córdoba (acumulado)': 6053, 'Nuevos casos registrados Ciudad de Córdoba': 598, 'Nuevos casos registrados Provincia de Córdoba': 1671},\n",
    "    {'Fecha': '27/7/2021', 'Casos registrados Ciudad de Córdoba (acumulado)': 210818, 'Casos registrados Provincia de Córdoba (acumulado)': 460719,\n",
    "  'Fallecidos Provincia de Córdoba (acumulado)': 6077, 'Nuevos casos registrados Ciudad de Córdoba': 1067, 'Nuevos casos registrados Provincia de Córdoba': 2607}, \n",
    "    {'Fecha': '28/7/2021', 'Casos registrados Ciudad de Córdoba (acumulado)': 213227, 'Casos registrados Provincia de Córdoba (acumulado)': 463151,\n",
    "  'Fallecidos Provincia de Córdoba (acumulado)': 6096, 'Nuevos casos registrados Ciudad de Córdoba': 1073, 'Nuevos casos registrados Provincia de Córdoba': 2409},\n",
    "    {'Fecha': '29/7/2021', 'Casos registrados Ciudad de Córdoba (acumulado)': 215421, 'Casos registrados Provincia de Córdoba (acumulado)': 465378,\n",
    "  'Fallecidos Provincia de Córdoba (acumulado)': 6120, 'Nuevos casos registrados Ciudad de Córdoba': 959, 'Nuevos casos registrados Provincia de Córdoba': 2194},\n",
    "    {'Fecha': '30/7/2021', 'Casos registrados Ciudad de Córdoba (acumulado)': 217281, 'Casos registrados Provincia de Córdoba (acumulado)': 467263,\n",
    "  'Fallecidos Provincia de Córdoba (acumulado)': 6135, 'Nuevos casos registrados Ciudad de Córdoba': 778, 'Nuevos casos registrados Provincia de Córdoba':1860},\n",
    "    {'Fecha': '31/7/2021', 'Casos registrados Ciudad de Córdoba (acumulado)': 218452, 'Casos registrados Provincia de Córdoba (acumulado)': 468451,\n",
    "  'Fallecidos Provincia de Córdoba (acumulado)': 6141, 'Nuevos casos registrados Ciudad de Córdoba': 548, 'Nuevos casos registrados Provincia de Córdoba':1171},\n",
    "    {'Fecha': '1/8/2021', 'Casos registrados Ciudad de Córdoba (acumulado)': 219146, 'Casos registrados Provincia de Córdoba (acumulado)': 469147,\n",
    "  'Fallecidos Provincia de Córdoba (acumulado)': 6146, 'Nuevos casos registrados Ciudad de Córdoba': 308, 'Nuevos casos registrados Provincia de Córdoba':694},\n",
    "    {'Fecha': '2/8/2021', 'Casos registrados Ciudad de Córdoba (acumulado)': 220397, 'Casos registrados Provincia de Córdoba (acumulado)': 470423,\n",
    "  'Fallecidos Provincia de Córdoba (acumulado)': 6169, 'Nuevos casos registrados Ciudad de Córdoba': 364, 'Nuevos casos registrados Provincia de Córdoba':1251}, \n",
    "\n",
    "]);"
   ]
  },
  {
   "cell_type": "code",
   "execution_count": 38,
   "metadata": {},
   "outputs": [
    {
     "name": "stderr",
     "output_type": "stream",
     "text": [
      "<ipython-input-38-69d82dd90aed>:1: DeprecationWarning: count is deprecated. Use estimated_document_count or count_documents instead. Please note that $where must be replaced by $expr, $near must be replaced by $geoWithin with $center, and $nearSphere must be replaced by $geoWithin with $centerSphere\n",
      "  db.CasosCOVID19Cba.count()\n"
     ]
    },
    {
     "data": {
      "text/plain": [
       "495"
      ]
     },
     "execution_count": 38,
     "metadata": {},
     "output_type": "execute_result"
    }
   ],
   "source": [
    "db.CasosCOVID19Cba.count()"
   ]
  },
  {
   "cell_type": "code",
   "execution_count": null,
   "metadata": {},
   "outputs": [],
   "source": []
  },
  {
   "cell_type": "code",
   "execution_count": null,
   "metadata": {},
   "outputs": [],
   "source": []
  },
  {
   "cell_type": "code",
   "execution_count": null,
   "metadata": {},
   "outputs": [],
   "source": []
  },
  {
   "cell_type": "code",
   "execution_count": 31,
   "metadata": {},
   "outputs": [
    {
     "name": "stdout",
     "output_type": "stream",
     "text": [
      "Collection(Database(MongoClient(host=['localhost:27017'], document_class=dict, tz_aware=False, connect=True), 'CasosCOVID19Cba'), 'CasosCOVID19Cba')\n"
     ]
    }
   ],
   "source": [
    "print(col)"
   ]
  },
  {
   "cell_type": "code",
   "execution_count": null,
   "metadata": {},
   "outputs": [],
   "source": []
  },
  {
   "cell_type": "code",
   "execution_count": null,
   "metadata": {},
   "outputs": [],
   "source": []
  },
  {
   "cell_type": "code",
   "execution_count": null,
   "metadata": {},
   "outputs": [],
   "source": []
  },
  {
   "cell_type": "code",
   "execution_count": 34,
   "metadata": {},
   "outputs": [],
   "source": [
    "#Cerrar la conexion\n",
    "mongoClient.close()"
   ]
  },
  {
   "cell_type": "code",
   "execution_count": null,
   "metadata": {},
   "outputs": [],
   "source": []
  }
 ],
 "metadata": {
  "kernelspec": {
   "display_name": "Python 3",
   "language": "python",
   "name": "python3"
  },
  "language_info": {
   "codemirror_mode": {
    "name": "ipython",
    "version": 3
   },
   "file_extension": ".py",
   "mimetype": "text/x-python",
   "name": "python",
   "nbconvert_exporter": "python",
   "pygments_lexer": "ipython3",
   "version": "3.8.3"
  }
 },
 "nbformat": 4,
 "nbformat_minor": 4
}
