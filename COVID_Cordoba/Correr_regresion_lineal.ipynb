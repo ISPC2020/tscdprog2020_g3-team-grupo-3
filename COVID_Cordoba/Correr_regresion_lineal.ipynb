{
 "cells": [
  {
   "cell_type": "markdown",
   "metadata": {},
   "source": [
    "# Correr una regresion lineal"
   ]
  },
  {
   "cell_type": "code",
   "execution_count": 13,
   "metadata": {},
   "outputs": [
    {
     "name": "stderr",
     "output_type": "stream",
     "text": [
      "<ipython-input-13-0c529377135b>:14: DeprecationWarning: count is deprecated. Use estimated_document_count or count_documents instead. Please note that $where must be replaced by $expr, $near must be replaced by $geoWithin with $center, and $nearSphere must be replaced by $geoWithin with $centerSphere\n",
      "  col.count()\n"
     ]
    },
    {
     "data": {
      "text/html": [
       "<div>\n",
       "<style scoped>\n",
       "    .dataframe tbody tr th:only-of-type {\n",
       "        vertical-align: middle;\n",
       "    }\n",
       "\n",
       "    .dataframe tbody tr th {\n",
       "        vertical-align: top;\n",
       "    }\n",
       "\n",
       "    .dataframe thead th {\n",
       "        text-align: right;\n",
       "    }\n",
       "</style>\n",
       "<table border=\"1\" class=\"dataframe\">\n",
       "  <thead>\n",
       "    <tr style=\"text-align: right;\">\n",
       "      <th></th>\n",
       "      <th>_id</th>\n",
       "      <th>Fecha</th>\n",
       "      <th>Casos registrados Ciudad de Córdoba (acumulado)</th>\n",
       "      <th>Casos registrados Provincia de Córdoba (acumulado)</th>\n",
       "      <th>Fallecidos Provincia de Córdoba (acumulado)</th>\n",
       "      <th>Nuevos casos registrados Ciudad de Córdoba</th>\n",
       "      <th>Nuevos casos registrados Provincia de Córdoba</th>\n",
       "      <th>Nuevos Fallecidos Provincia de Córdoba</th>\n",
       "    </tr>\n",
       "  </thead>\n",
       "  <tbody>\n",
       "    <tr>\n",
       "      <th>0</th>\n",
       "      <td>61267cfd59ffc90eb04ddba9</td>\n",
       "      <td>2020-03-25</td>\n",
       "      <td>21</td>\n",
       "      <td>49</td>\n",
       "      <td>0</td>\n",
       "      <td>0</td>\n",
       "      <td>0</td>\n",
       "      <td>0</td>\n",
       "    </tr>\n",
       "    <tr>\n",
       "      <th>1</th>\n",
       "      <td>61267cfd59ffc90eb04ddbaa</td>\n",
       "      <td>2020-03-26</td>\n",
       "      <td>22</td>\n",
       "      <td>52</td>\n",
       "      <td>0</td>\n",
       "      <td>1</td>\n",
       "      <td>3</td>\n",
       "      <td>0</td>\n",
       "    </tr>\n",
       "    <tr>\n",
       "      <th>2</th>\n",
       "      <td>61267cfd59ffc90eb04ddbab</td>\n",
       "      <td>2020-03-28</td>\n",
       "      <td>24</td>\n",
       "      <td>56</td>\n",
       "      <td>0</td>\n",
       "      <td>2</td>\n",
       "      <td>4</td>\n",
       "      <td>0</td>\n",
       "    </tr>\n",
       "    <tr>\n",
       "      <th>3</th>\n",
       "      <td>61267cfd59ffc90eb04ddbac</td>\n",
       "      <td>2020-03-29</td>\n",
       "      <td>30</td>\n",
       "      <td>73</td>\n",
       "      <td>0</td>\n",
       "      <td>6</td>\n",
       "      <td>17</td>\n",
       "      <td>0</td>\n",
       "    </tr>\n",
       "    <tr>\n",
       "      <th>4</th>\n",
       "      <td>61267cfd59ffc90eb04ddbad</td>\n",
       "      <td>2020-03-30</td>\n",
       "      <td>30</td>\n",
       "      <td>80</td>\n",
       "      <td>0</td>\n",
       "      <td>0</td>\n",
       "      <td>7</td>\n",
       "      <td>0</td>\n",
       "    </tr>\n",
       "  </tbody>\n",
       "</table>\n",
       "</div>"
      ],
      "text/plain": [
       "                        _id      Fecha  \\\n",
       "0  61267cfd59ffc90eb04ddba9 2020-03-25   \n",
       "1  61267cfd59ffc90eb04ddbaa 2020-03-26   \n",
       "2  61267cfd59ffc90eb04ddbab 2020-03-28   \n",
       "3  61267cfd59ffc90eb04ddbac 2020-03-29   \n",
       "4  61267cfd59ffc90eb04ddbad 2020-03-30   \n",
       "\n",
       "   Casos registrados Ciudad de Córdoba (acumulado)  \\\n",
       "0                                               21   \n",
       "1                                               22   \n",
       "2                                               24   \n",
       "3                                               30   \n",
       "4                                               30   \n",
       "\n",
       "   Casos registrados Provincia de Córdoba (acumulado)  \\\n",
       "0                                                 49    \n",
       "1                                                 52    \n",
       "2                                                 56    \n",
       "3                                                 73    \n",
       "4                                                 80    \n",
       "\n",
       "   Fallecidos Provincia de Córdoba (acumulado)  \\\n",
       "0                                            0   \n",
       "1                                            0   \n",
       "2                                            0   \n",
       "3                                            0   \n",
       "4                                            0   \n",
       "\n",
       "   Nuevos casos registrados Ciudad de Córdoba  \\\n",
       "0                                           0   \n",
       "1                                           1   \n",
       "2                                           2   \n",
       "3                                           6   \n",
       "4                                           0   \n",
       "\n",
       "   Nuevos casos registrados Provincia de Córdoba  \\\n",
       "0                                              0   \n",
       "1                                              3   \n",
       "2                                              4   \n",
       "3                                             17   \n",
       "4                                              7   \n",
       "\n",
       "   Nuevos Fallecidos Provincia de Córdoba  \n",
       "0                                       0  \n",
       "1                                       0  \n",
       "2                                       0  \n",
       "3                                       0  \n",
       "4                                       0  "
      ]
     },
     "execution_count": 13,
     "metadata": {},
     "output_type": "execute_result"
    }
   ],
   "source": [
    "# IMPORTO LAS LIBRERIAS NECESARIAS\n",
    "import pymongo\n",
    "import numpy as np\n",
    "import matplotlib.pyplot as plt #dibujar\n",
    "import pandas as pd\n",
    "from sklearn.linear_model import LinearRegression #correr regresion lineal\n",
    "\n",
    "client = pymongo.MongoClient('localhost',27017)\n",
    "#print(client.list_database_names()) #muestra los nombres de las bases\n",
    "db = client['CCCba'] #monto la base en la variable db\n",
    "#print(db.list_collection_names()) #muestra las colecciones en esa base\n",
    "\n",
    "col = db.CCCba_collection #Carga la coleccion en la variable col\n",
    "col.count()\n",
    "#sentencia para buscar dentro de la coleccion\n",
    "#print(col)\n",
    "\n",
    "#paso los datos de una collection de Mongo a DF de PANDAS\n",
    "\n",
    "datos = pd.DataFrame(list(col.find()))\n",
    "datos.head()\n",
    "\n",
    "\n"
   ]
  },
  {
   "cell_type": "markdown",
   "metadata": {},
   "source": [
    "# GRAFICAR DATOS"
   ]
  },
  {
   "cell_type": "code",
   "execution_count": 20,
   "metadata": {},
   "outputs": [
    {
     "data": {
      "image/png": "[encoded data removed]",
      "text/plain": [
       "<Figure size 1008x1008 with 1 Axes>"
      ]
     },
     "metadata": {
      "needs_background": "light"
     },
     "output_type": "display_data"
    }
   ],
   "source": [
    "# DEFINO MIS EJES\n",
    "X = datos['Fecha']\n",
    "#DEFINO EL TAMAÑO DEL GRAFICO\n",
    "fig = plt.figure(figsize=(14,14)) \n",
    "\n",
    "#Nube de puntos\n",
    "#plt.scatter(x,y)\n",
    "plt.scatter(X,datos['Nuevos Fallecidos Provincia de Córdoba'])\n",
    "plt.scatter(X,datos['Nuevos casos registrados Provincia de Córdoba'])\n",
    "#plt.plot(x,y)\n",
    "plt.plot()\n",
    "\n",
    "#plt.plot(datos['Nuevos casos registrados Provincia de Córdoba'],datos['Fecha'])\n",
    "\n",
    "#defino titulos\n",
    "#plt.xlabel('Fallecidos Provincia de Córdoba')\n",
    "#plt.ylabel('Positivos registrados Provincia de Córdoba')\n",
    "plt.grid()"
   ]
  },
  {
   "cell_type": "code",
   "execution_count": null,
   "metadata": {},
   "outputs": [],
   "source": []
  }
 ],
 "metadata": {
  "kernelspec": {
   "display_name": "Python 3",
   "language": "python",
   "name": "python3"
  },
  "language_info": {
   "codemirror_mode": {
    "name": "ipython",
    "version": 3
   },
   "file_extension": ".py",
   "mimetype": "text/x-python",
   "name": "python",
   "nbconvert_exporter": "python",
   "pygments_lexer": "ipython3",
   "version": "3.8.3"
  }
 },
 "nbformat": 4,
 "nbformat_minor": 4
}
